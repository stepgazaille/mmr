{
 "cells": [
  {
   "cell_type": "markdown",
   "metadata": {},
   "source": [
    "# Imports"
   ]
  },
  {
   "cell_type": "code",
   "execution_count": 1,
   "metadata": {},
   "outputs": [],
   "source": [
    "import os\n",
    "import json\n",
    "import numpy as np\n",
    "from pathlib import Path\n",
    "from qbsum.corpora import NewsCorpus\n",
    "from qbsum.summarizers import MMR"
   ]
  },
  {
   "cell_type": "markdown",
   "metadata": {},
   "source": [
    "# Setup"
   ]
  },
  {
   "cell_type": "code",
   "execution_count": 2,
   "metadata": {},
   "outputs": [],
   "source": [
    "with open('directories.json') as f:\n",
    "        directories = json.load(f)\n",
    "baseDir = Path(os.getcwd())\n",
    "corpus = 'news'\n",
    "documentsDir = baseDir / directories[corpus]['documents']\n",
    "queriesDir = baseDir / directories[corpus]['queries']\n",
    "referencesDir = baseDir / directories[corpus]['references']\n",
    "\n",
    "# Load the test corpus:\n",
    "corpus = NewsCorpus(documentsDir, queriesDir, referencesDir)"
   ]
  },
  {
   "cell_type": "code",
   "execution_count": 3,
   "metadata": {},
   "outputs": [],
   "source": [
    "mmr = MMR()\n",
    "docs = corpus.document_sets()[0]\n",
    "reference = corpus.references()[0][0]"
   ]
  },
  {
   "cell_type": "markdown",
   "metadata": {},
   "source": [
    "# Test 1"
   ]
  },
  {
   "cell_type": "markdown",
   "metadata": {},
   "source": [
    "How different can the query be before it's not the first chosen sentence?"
   ]
  },
  {
   "cell_type": "code",
   "execution_count": 4,
   "metadata": {},
   "outputs": [
    {
     "name": "stdout",
     "output_type": "stream",
     "text": [
      "LAMBDA: 1.0\n",
      "QUERY: Bombardier Inc (BBDb.TO) said would sell two businesses million cut jobs it expands divisions company shares fell as much as percent disappointing cash flow forecast\n",
      "REFERENCE: Bombardier Inc (BBDb.TO) said on Thursday it would sell two businesses for around $900 million (£689 million) and cut 5,000 jobs and as it expands its stronger corporate jet and rail divisions, but the company's shares fell as much as 26 percent on a disappointing free cash flow forecast. \"2018 free cash flow was lower than my expectations,\" said Morningstar analyst Chris Higgins. Jamie Koutsoukis, a senior analyst at Moody's, said by email she believes Bombardier has \"an uncertain ability to generate positive free cash flow in 2019.\"\n"
     ]
    }
   ],
   "source": [
    "lda = 1.0\n",
    "L = 50\n",
    "#query01 = \"Bombardier Inc (BBDb.TO) said would sell two businesses million cut jobs it expands divisions company shares fell as much as percent disappointing cash flow forecast\"\n",
    "query01 = \"Bombardier Inc (BBDb.TO) said would sell two businesses million cut jobs it expands divisions company shares fell as much as percent disappointing cash flow forecast\"\n",
    "print(\"LAMBDA:\", lda)\n",
    "print(\"QUERY:\", query01)\n",
    "print(\"REFERENCE:\",\" \".join(reference))"
   ]
  },
  {
   "cell_type": "code",
   "execution_count": 5,
   "metadata": {},
   "outputs": [
    {
     "name": "stdout",
     "output_type": "stream",
     "text": [
      "SUMMARY: (Reuters) - Bombardier Inc (BBDb.TO) said on Thursday it would sell two businesses for around $900 million (£689 million) and cut 5,000 jobs and as it expands its stronger corporate jet and rail divisions, but the company's shares fell as much as 26 percent on a disappointing free cash flow forecast.\n"
     ]
    }
   ],
   "source": [
    "summary = mmr.summarize(docs,\n",
    "                        query01,\n",
    "                        max_length=L)\n",
    "print(\"SUMMARY:\",\" \".join(summary))"
   ]
  },
  {
   "cell_type": "markdown",
   "metadata": {},
   "source": [
    "# Test 2"
   ]
  },
  {
   "cell_type": "markdown",
   "metadata": {},
   "source": [
    "How long must be the summary it inludes the the correct answer using a normal query?"
   ]
  },
  {
   "cell_type": "code",
   "execution_count": 9,
   "metadata": {},
   "outputs": [
    {
     "name": "stdout",
     "output_type": "stream",
     "text": [
      "LAMBDA: 1.0\n",
      "QUERY: Bombardier (BBDb.TO) shares fell disappointing\n",
      "REFERENCE: Bombardier Inc (BBDb.TO) said on Thursday it would sell two businesses for around $900 million (£689 million) and cut 5,000 jobs and as it expands its stronger corporate jet and rail divisions, but the company's shares fell as much as 26 percent on a disappointing free cash flow forecast. \"2018 free cash flow was lower than my expectations,\" said Morningstar analyst Chris Higgins. Jamie Koutsoukis, a senior analyst at Moody's, said by email she believes Bombardier has \"an uncertain ability to generate positive free cash flow in 2019.\"\n"
     ]
    }
   ],
   "source": [
    "lda = 1.0\n",
    "L = 500\n",
    "query02 = \"Bombardier (BBDb.TO) shares fell disappointing\"\n",
    "print(\"LAMBDA:\", lda)\n",
    "print(\"QUERY:\", query02)\n",
    "print(\"REFERENCE:\",\" \".join(reference))"
   ]
  },
  {
   "cell_type": "code",
   "execution_count": 10,
   "metadata": {},
   "outputs": [
    {
     "name": "stdout",
     "output_type": "stream",
     "text": [
      "SUMMARY: (9)\tRatio of new orders received over aircraft deliveries, in units, excluding C Series aircraft orders and deliveries. Reference to generally accepted accounting principles (GAAP) means IFRS, unless indicated otherwise. 2018 guidance(3) updated: Revenues ~$16.5B; EBIT(1) ~$1B; and free cash flow(2) breakeven ±$150M, including net proceeds from Downsview sale (1)\tEarnings and EBIT refer to EBIT before special items. Non-GAAP financial measures. * Questions raised over absence of C919 narrowbody jet (Updates with analyst comment) MONTRÉAL, Nov. 08, 2018 (GLOBE NEWSWIRE) -- Bombardier (BBD-B.TO) today reported its third quarter 2018 results marked by strong earnings growth. Group communications coordinator ZHUHAI, China, Nov 8 (Reuters) - China paraded industrial and military clout and sent deliberate signals to Western rivals that its aerospace and arms industries aim to catch them up on world markets, while playing down trade tensions at the nation's largest air show this week. Bombardier also announced today that Danny Di Perna has been appointed President, Aerostructures and Engineering Services (BAES), effective immediately. Reconciliation of adjusted EPS to diluted EPS (in dollars) MONTREAL/ZHUHAI, China, Nov 8 (Reuters) - Chinese companies and individuals are selling more used private planes than in previous years as economic growth slows in China, and U.S. buyers are snapping up hard-to-find models, according to interviews with business jet analysts, dealers and consultants. This transaction provides Bombardier’s Business Aircraft customers the benefit of CAE’s training expertise, while Bombardier focuses on aircraft development and services. This fruitful partnership with Bombardier Transportation enables Akiem Group industrial teams to design and deliver tailor-made services and maintenance solutions across Europe. It also exceeded takeoff and landing performance commitments, facilitating access to challenging airports such as Chicago Executive, MI or Eagle County, CO, even in adverse weather conditions. Tax impact of special(2) and other adjusting items\t(3\t)\t \t0.00\t \t \t—\t \t \t0.00 Preferred share dividends, including taxes\t(7\t)\t \t \t \t(7\t) Net income (loss) attributable to NCI\t(38\t)\t \t \t \t17 ~$900M net proceeds expected mainly from the sale of non-core assets: Q Series program and Business Aircraft’s flight and technical training activities(3) (5)\tMargin refers to EBIT margin before special items. Non-GAAP financial measure. It covers the full spectrum of solutions, ranging from trains to sub-systems and signalling to complete turnkey transport systems, e-mobility technology and data-driven maintenance services. Impairment charges on PP&E and intangible assets(3)\t—\t \t \t2\t \t \t11\t \t \t45 Reconciliation of EBITDA before special items and EBITDA to EBIT Bombardier and TRAXX are trademarks of Bombardier Inc. or its subsidiaries. (3) \tRefer to the Consolidated results of operations section in the Corporation's MD&A for details regarding special items. Bombardier shares are traded on the Toronto Stock Exchange (BBD). Impact of special(2) and other adjusting items\t—\t \t \t0.04 Resumption (ET): 10:58:13 AM The ATO will focus on systems design and engineering, including applying experience from Bombardier’s aerospace programs to its rail transportation business. (Reuters) - Bombardier Inc (BBDb.TO) said on Thursday it would sell two businesses for around $900 million (£689 million) and cut 5,000 jobs and as it expands its stronger corporate jet and rail divisions, but the company's shares fell as much as 26 percent on a disappointing free cash flow forecast.\n"
     ]
    }
   ],
   "source": [
    "summary = mmr.summarize(docs,\n",
    "                        query02,\n",
    "                        max_length=L)\n",
    "print(\"SUMMARY:\",\" \".join(summary))"
   ]
  }
 ],
 "metadata": {
  "kernelspec": {
   "display_name": "Python 3",
   "language": "python",
   "name": "python3"
  },
  "language_info": {
   "codemirror_mode": {
    "name": "ipython",
    "version": 3
   },
   "file_extension": ".py",
   "mimetype": "text/x-python",
   "name": "python",
   "nbconvert_exporter": "python",
   "pygments_lexer": "ipython3",
   "version": "3.6.5"
  }
 },
 "nbformat": 4,
 "nbformat_minor": 2
}
