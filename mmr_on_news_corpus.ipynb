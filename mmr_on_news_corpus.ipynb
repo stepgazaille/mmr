{
 "cells": [
  {
   "cell_type": "markdown",
   "metadata": {},
   "source": [
    "# Imports"
   ]
  },
  {
   "cell_type": "code",
   "execution_count": 6,
   "metadata": {},
   "outputs": [],
   "source": [
    "import os\n",
    "import json\n",
    "import numpy as np\n",
    "from pathlib import Path\n",
    "from qbsum.corpora import NewsCorpus\n",
    "from qbsum.summarizers import MMR"
   ]
  },
  {
   "cell_type": "markdown",
   "metadata": {},
   "source": [
    "# Setup"
   ]
  },
  {
   "cell_type": "code",
   "execution_count": 7,
   "metadata": {},
   "outputs": [],
   "source": [
    "with open('directories.json') as f:\n",
    "        directories = json.load(f)\n",
    "baseDir = Path(os.getcwd())\n",
    "corpus = 'news'\n",
    "documentsDir = baseDir / directories[corpus]['documents']\n",
    "queriesDir = baseDir / directories[corpus]['queries']\n",
    "referencesDir = baseDir / directories[corpus]['references']\n",
    "\n",
    "# Load the test corpus:\n",
    "corpus = NewsCorpus(documentsDir, queriesDir, referencesDir)"
   ]
  },
  {
   "cell_type": "code",
   "execution_count": 8,
   "metadata": {},
   "outputs": [],
   "source": [
    "mmr = MMR()\n",
    "docs = corpus.document_sets()[0]\n",
    "reference = corpus.references()[0][0]"
   ]
  },
  {
   "cell_type": "markdown",
   "metadata": {},
   "source": [
    "# Test 1"
   ]
  },
  {
   "cell_type": "markdown",
   "metadata": {},
   "source": [
    "How different can the query be before it's not the first chosen sentence?"
   ]
  },
  {
   "cell_type": "code",
   "execution_count": 9,
   "metadata": {},
   "outputs": [
    {
     "name": "stdout",
     "output_type": "stream",
     "text": [
      "LAMBDA: 1.0\n",
      "QUERY: Bombardier Inc (BBDb.TO) said would sell two businesses million cut jobs it expands divisions company shares fell as much as percent disappointing cash flow forecast\n",
      "REFERENCE: Bombardier Inc (BBDb.TO) said on Thursday it would sell two businesses for around $900 million (Â£689 million) and cut 5,000 jobs and as it expands its stronger corporate jet and rail divisions, but the company's shares fell as much as 26 percent on a disappointing free cash flow forecast. \"2018 free cash flow was lower than my expectations,\" said Morningstar analyst Chris Higgins. Jamie Koutsoukis, a senior analyst at Moody's, said by email she believes Bombardier has \"an uncertain ability to generate positive free cash flow in 2019.\"\n"
     ]
    }
   ],
   "source": [
    "lda = 1.0\n",
    "L = 50\n",
    "#query01 = \"Bombardier Inc (BBDb.TO) said would sell two businesses million cut jobs it expands divisions company shares fell as much as percent disappointing cash flow forecast\"\n",
    "query01 = \"Bombardier Inc (BBDb.TO) said would sell two businesses million cut jobs it expands divisions company shares fell as much as percent disappointing cash flow forecast\"\n",
    "print(\"LAMBDA:\", lda)\n",
    "print(\"QUERY:\", query01)\n",
    "print(\"REFERENCE:\",\" \".join(reference))"
   ]
  },
  {
   "cell_type": "code",
   "execution_count": 10,
   "metadata": {},
   "outputs": [
    {
     "name": "stdout",
     "output_type": "stream",
     "text": [
      "SUMMARY: (Reuters) - Bombardier Inc (BBDb.TO) said on Thursday it would sell two businesses for around $900 million (£689 million) and cut 5,000 jobs and as it expands its stronger corporate jet and rail divisions, but the company's shares fell as much as 26 percent on a disappointing free cash flow forecast.\n"
     ]
    }
   ],
   "source": [
    "summary = mmr.summarize(docs,\n",
    "                        query01,\n",
    "                        max_length=L)\n",
    "print(\"SUMMARY:\",\" \".join(summary))"
   ]
  },
  {
   "cell_type": "markdown",
   "metadata": {},
   "source": [
    "# Test 2"
   ]
  },
  {
   "cell_type": "markdown",
   "metadata": {},
   "source": [
    "How long must be the summary it inludes the the correct answer using a normal query?"
   ]
  },
  {
   "cell_type": "code",
   "execution_count": 13,
   "metadata": {},
   "outputs": [
    {
     "name": "stdout",
     "output_type": "stream",
     "text": [
      "LAMBDA: 1.0\n",
      "QUERY: Bombardier BBD.B market share fell down slide analyst\n",
      "REFERENCE: Bombardier Inc (BBDb.TO) said on Thursday it would sell two businesses for around $900 million (Â£689 million) and cut 5,000 jobs and as it expands its stronger corporate jet and rail divisions, but the company's shares fell as much as 26 percent on a disappointing free cash flow forecast. \"2018 free cash flow was lower than my expectations,\" said Morningstar analyst Chris Higgins. Jamie Koutsoukis, a senior analyst at Moody's, said by email she believes Bombardier has \"an uncertain ability to generate positive free cash flow in 2019.\"\n"
     ]
    }
   ],
   "source": [
    "lda = 1.0\n",
    "L = 1000\n",
    "query02 = corpus.queries()[0]\n",
    "print(\"LAMBDA:\", lda)\n",
    "print(\"QUERY:\", query02)\n",
    "print(\"REFERENCE:\",\" \".join(reference))"
   ]
  },
  {
   "cell_type": "code",
   "execution_count": null,
   "metadata": {},
   "outputs": [],
   "source": [
    "summary = mmr.summarize(docs,\n",
    "                        query02,\n",
    "                        max_length=L)\n",
    "print(\"SUMMARY:\",\" \".join(summary))"
   ]
  }
 ],
 "metadata": {
  "kernelspec": {
   "display_name": "Python 3",
   "language": "python",
   "name": "python3"
  },
  "language_info": {
   "codemirror_mode": {
    "name": "ipython",
    "version": 3
   },
   "file_extension": ".py",
   "mimetype": "text/x-python",
   "name": "python",
   "nbconvert_exporter": "python",
   "pygments_lexer": "ipython3",
   "version": "3.6.5"
  }
 },
 "nbformat": 4,
 "nbformat_minor": 2
}
