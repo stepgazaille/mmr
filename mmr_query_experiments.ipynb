{
 "cells": [
  {
   "cell_type": "markdown",
   "metadata": {},
   "source": [
    "# Imports"
   ]
  },
  {
   "cell_type": "code",
   "execution_count": null,
   "metadata": {},
   "outputs": [
    {
     "name": "stderr",
     "output_type": "stream",
     "text": [
      "C:\\Users\\gazailst\\AppData\\Local\\Continuum\\anaconda3\\envs\\dev\\lib\\importlib\\_bootstrap.py:219: RuntimeWarning: cymem.cymem.Pool size changed, may indicate binary incompatibility. Expected 48 from C header, got 64 from PyObject\n",
      "  return f(*args, **kwds)\n",
      "C:\\Users\\gazailst\\AppData\\Local\\Continuum\\anaconda3\\envs\\dev\\lib\\importlib\\_bootstrap.py:219: RuntimeWarning: cymem.cymem.Address size changed, may indicate binary incompatibility. Expected 24 from C header, got 40 from PyObject\n",
      "  return f(*args, **kwds)\n"
     ]
    }
   ],
   "source": [
    "import os\n",
    "import json\n",
    "import numpy as np\n",
    "from pathlib import Path\n",
    "from qbsum.corpora import NewsCorpus\n",
    "from qbsum.summarizers import MMR"
   ]
  },
  {
   "cell_type": "markdown",
   "metadata": {},
   "source": [
    "# Setup"
   ]
  },
  {
   "cell_type": "code",
   "execution_count": null,
   "metadata": {},
   "outputs": [],
   "source": [
    "with open('directories.json') as f:\n",
    "        directories = json.load(f)\n",
    "baseDir = Path(os.getcwd())\n",
    "corpus = 'news'\n",
    "documentsDir = baseDir / directories[corpus]['documents']\n",
    "queriesDir = baseDir / directories[corpus]['queries']\n",
    "referencesDir = baseDir / directories[corpus]['references']\n",
    "\n",
    "# Load the test corpus:\n",
    "corpus = NewsCorpus(documentsDir, queriesDir, referencesDir)"
   ]
  },
  {
   "cell_type": "code",
   "execution_count": null,
   "metadata": {},
   "outputs": [],
   "source": [
    "mmr = MMR()\n",
    "docs = corpus.document_sets()[0]\n",
    "reference = corpus.references()[0][0]"
   ]
  },
  {
   "cell_type": "markdown",
   "metadata": {},
   "source": [
    "# Test 1"
   ]
  },
  {
   "cell_type": "markdown",
   "metadata": {},
   "source": [
    "How different can the query be before it's not the first chosen sentence?"
   ]
  },
  {
   "cell_type": "code",
   "execution_count": null,
   "metadata": {},
   "outputs": [],
   "source": [
    "lda = 1.0\n",
    "L = 50\n",
    "#query01 = \"Bombardier Inc (BBDb.TO) said would sell two businesses million cut jobs it expands divisions company shares fell as much as percent disappointing cash flow forecast\"\n",
    "query01 = \"Bombardier Inc (BBDb.TO) said would sell two businesses million cut jobs it expands divisions company shares fell as much as percent disappointing cash flow forecast\"\n",
    "print(\"LAMBDA:\", lda)\n",
    "print(\"QUERY:\", query01)\n",
    "print(\"REFERENCE:\",\" \".join(reference))"
   ]
  },
  {
   "cell_type": "code",
   "execution_count": null,
   "metadata": {},
   "outputs": [],
   "source": [
    "summary = mmr.summarize(docs,\n",
    "                        query01,\n",
    "                        max_length=L)\n",
    "print(\"SUMMARY:\",\" \".join(summary))"
   ]
  },
  {
   "cell_type": "markdown",
   "metadata": {},
   "source": [
    "# Test 2"
   ]
  },
  {
   "cell_type": "markdown",
   "metadata": {},
   "source": [
    "How long must be the summary it inludes the the correct answer using a normal query?"
   ]
  },
  {
   "cell_type": "code",
   "execution_count": null,
   "metadata": {},
   "outputs": [],
   "source": [
    "lda = 1.0\n",
    "L = 500\n",
    "query02 = corpus.queries()[0]\n",
    "print(\"LAMBDA:\", lda)\n",
    "print(\"QUERY:\", query02)\n",
    "print(\"REFERENCE:\",\" \".join(reference))"
   ]
  },
  {
   "cell_type": "code",
   "execution_count": null,
   "metadata": {},
   "outputs": [],
   "source": [
    "summary = mmr.summarize(docs,\n",
    "                        query02,\n",
    "                        max_length=L)\n",
    "print(\"SUMMARY:\",\" \".join(summary))"
   ]
  }
 ],
 "metadata": {
  "kernelspec": {
   "display_name": "Python 3",
   "language": "python",
   "name": "python3"
  },
  "language_info": {
   "codemirror_mode": {
    "name": "ipython",
    "version": 3
   },
   "file_extension": ".py",
   "mimetype": "text/x-python",
   "name": "python",
   "nbconvert_exporter": "python",
   "pygments_lexer": "ipython3",
   "version": "3.6.5"
  }
 },
 "nbformat": 4,
 "nbformat_minor": 2
}
