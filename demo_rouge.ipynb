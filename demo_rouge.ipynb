{
 "cells": [
  {
   "cell_type": "markdown",
   "metadata": {},
   "source": [
    "# Imports"
   ]
  },
  {
   "cell_type": "code",
   "execution_count": 1,
   "metadata": {},
   "outputs": [],
   "source": [
    "import json\n",
    "from pythonrouge.pythonrouge import Pythonrouge"
   ]
  },
  {
   "cell_type": "markdown",
   "metadata": {},
   "source": [
    "# Data structures"
   ]
  },
  {
   "cell_type": "markdown",
   "metadata": {},
   "source": [
    "pythonrouge require candidates summaries to be formated as follow:"
   ]
  },
  {
   "cell_type": "code",
   "execution_count": 2,
   "metadata": {},
   "outputs": [],
   "source": [
    "candidates = [\n",
    "    [   # A summary about one documents set is a list of sentences:\n",
    "        \"Great location, very good selection of food for breakfast buffet.\",\n",
    "        \"Stunning food, amazing service.\",\n",
    "        \"The food is excellent and the service great.\"\n",
    "    ],\n",
    "    [   # A summary about a second documents set:\n",
    "        \"The keyboard, more than 90% standard size, is just large enough.\",\n",
    "        \"Surprisingly readable screen for the size.\",\n",
    "        \"Smaller size videos play even smoother.\"\n",
    "    ]\n",
    "]"
   ]
  },
  {
   "cell_type": "markdown",
   "metadata": {},
   "source": [
    "pythonrouge require candidates summaries to be formated as follow:"
   ]
  },
  {
   "cell_type": "code",
   "execution_count": 3,
   "metadata": {},
   "outputs": [],
   "source": [
    "references = [\n",
    "                [   # 3 references for first documents set:\n",
    "                    [\n",
    "                        \"Food was excellent with a wide range of choices and good services.\",\n",
    "                        \"It was a bit expensive though.\"\n",
    "                    ],\n",
    "                    [\n",
    "                        \"Food can be a little bit overpriced, but is good for hotel.\"\n",
    "                    ],\n",
    "                    [\n",
    "                        \"The food in the hotel was a little over priced but excellent in taste and choice.\",\n",
    "                        \"There were also many choices to eat in the near vicinity of the hotel.\"\n",
    "                    ]\n",
    "                ],\n",
    "                [   # 4 references for second documents set:\n",
    "                    [\n",
    "                        \"The size is great and allows for excellent portability.\",\n",
    "                        \"Makes it exceptionally easy to tote around, and the keyboard is fairly big considering the size of this netbook.\"\n",
    "                    ],\n",
    "                    [\n",
    "                        \"Size is small and manageable.\",\n",
    "                        \"Perfect size and weight.\",\n",
    "                        \"Great size for travel.\"\n",
    "                    ],\n",
    "                    [\n",
    "                        \"The keyboard is a decent size, a bit smaller then average but good.\",\n",
    "                        \"The laptop itself is small but big enough to do things on it.\"\n",
    "                    ],\n",
    "                    [\n",
    "                        \"In spite of being small it is still comfortable.\",\n",
    "                        \"The screen and keyboard are well sized for use.\"\n",
    "                    ]\n",
    "                ]\n",
    "            ]"
   ]
  },
  {
   "cell_type": "markdown",
   "metadata": {},
   "source": [
    "# Evaluation"
   ]
  },
  {
   "cell_type": "markdown",
   "metadata": {},
   "source": [
    "Read ROUGE configuration from file:"
   ]
  },
  {
   "cell_type": "code",
   "execution_count": 4,
   "metadata": {},
   "outputs": [
    {
     "data": {
      "text/plain": [
       "{'summary_file_exist': False,\n",
       " 'n_gram': 2,\n",
       " 'ROUGE_SU4': True,\n",
       " 'ROUGE_L': False,\n",
       " 'recall_only': False,\n",
       " 'stemming': True,\n",
       " 'stopwords': True,\n",
       " 'word_level': True,\n",
       " 'length_limit': True,\n",
       " 'length': 10,\n",
       " 'use_cf': False,\n",
       " 'cf': 95,\n",
       " 'scoring_formula': 'average',\n",
       " 'resampling': True,\n",
       " 'samples': 1000,\n",
       " 'favor': True,\n",
       " 'p': 0.5}"
      ]
     },
     "execution_count": 4,
     "metadata": {},
     "output_type": "execute_result"
    }
   ],
   "source": [
    "with open('rouge_args.json') as f:\n",
    "    rouge_args = json.load(f)\n",
    "rouge_args"
   ]
  },
  {
   "cell_type": "markdown",
   "metadata": {},
   "source": [
    "Configure pythonrouge:"
   ]
  },
  {
   "cell_type": "code",
   "execution_count": 5,
   "metadata": {},
   "outputs": [],
   "source": [
    "rouge = Pythonrouge(summary=candidates, reference=references,\n",
    "                    summary_file_exist=rouge_args['summary_file_exist'],\n",
    "                    n_gram=rouge_args['n_gram'],\n",
    "                    ROUGE_SU4=rouge_args['ROUGE_SU4'],\n",
    "                    ROUGE_L=rouge_args['ROUGE_L'],\n",
    "                    recall_only=rouge_args['recall_only'],\n",
    "                    stemming=rouge_args['stemming'],\n",
    "                    stopwords=rouge_args['stopwords'],\n",
    "                    word_level=rouge_args['word_level'],\n",
    "                    length_limit=rouge_args['length_limit'],\n",
    "                    length=rouge_args['length'],\n",
    "                    use_cf=rouge_args['use_cf'],\n",
    "                    cf=rouge_args['cf'],\n",
    "                    scoring_formula=rouge_args['scoring_formula'],\n",
    "                    resampling=rouge_args['resampling'],\n",
    "                    samples=rouge_args['samples'],\n",
    "                    favor=rouge_args['favor'],\n",
    "                    p=rouge_args['p'])"
   ]
  },
  {
   "cell_type": "markdown",
   "metadata": {},
   "source": [
    "Evaluate candidate summaries:"
   ]
  },
  {
   "cell_type": "code",
   "execution_count": 6,
   "metadata": {},
   "outputs": [
    {
     "name": "stdout",
     "output_type": "stream",
     "text": [
      "ROUGE-1-R\t0.26666\n",
      "ROUGE-1-F\t0.22122\n",
      "ROUGE-2-R\t0.0\n",
      "ROUGE-2-F\t0.0\n",
      "ROUGE-SU4-R\t0.09595\n",
      "ROUGE-SU4-F\t0.07178\n"
     ]
    }
   ],
   "source": [
    "score = rouge.calc_score()\n",
    "for key in score.keys():\n",
    "    print(key + \"\\t{}\".format(score[key]))"
   ]
  }
 ],
 "metadata": {
  "kernelspec": {
   "display_name": "Python 3",
   "language": "python",
   "name": "python3"
  },
  "language_info": {
   "codemirror_mode": {
    "name": "ipython",
    "version": 3
   },
   "file_extension": ".py",
   "mimetype": "text/x-python",
   "name": "python",
   "nbconvert_exporter": "python",
   "pygments_lexer": "ipython3",
   "version": "3.6.5"
  }
 },
 "nbformat": 4,
 "nbformat_minor": 2
}
