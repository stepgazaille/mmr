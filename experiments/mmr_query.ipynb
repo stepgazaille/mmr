{
 "cells": [
  {
   "cell_type": "markdown",
   "metadata": {},
   "source": [
    "# Imports"
   ]
  },
  {
   "cell_type": "code",
   "execution_count": 1,
   "metadata": {},
   "outputs": [
    {
     "name": "stderr",
     "output_type": "stream",
     "text": [
      "C:\\Users\\stephaneg\\AppData\\Local\\Continuum\\anaconda3\\envs\\dev\\lib\\importlib\\_bootstrap.py:219: RuntimeWarning: cymem.cymem.Pool size changed, may indicate binary incompatibility. Expected 24 from C header, got 32 from PyObject\n",
      "  return f(*args, **kwds)\n",
      "C:\\Users\\stephaneg\\AppData\\Local\\Continuum\\anaconda3\\envs\\dev\\lib\\importlib\\_bootstrap.py:219: RuntimeWarning: cymem.cymem.Address size changed, may indicate binary incompatibility. Expected 12 from C header, got 20 from PyObject\n",
      "  return f(*args, **kwds)\n"
     ]
    }
   ],
   "source": [
    "import os\n",
    "import json\n",
    "import numpy as np\n",
    "from pathlib import Path\n",
    "from qbsum.corpora import DevCorpus\n",
    "from qbsum.summarizers import MMR"
   ]
  },
  {
   "cell_type": "markdown",
   "metadata": {},
   "source": [
    "# Setup"
   ]
  },
  {
   "cell_type": "code",
   "execution_count": 2,
   "metadata": {},
   "outputs": [
    {
     "name": "stderr",
     "output_type": "stream",
     "text": [
      "C:\\Users\\stephaneg\\AppData\\Local\\Continuum\\anaconda3\\envs\\dev\\lib\\importlib\\_bootstrap.py:219: RuntimeWarning: cymem.cymem.Pool size changed, may indicate binary incompatibility. Expected 24 from C header, got 32 from PyObject\n",
      "  return f(*args, **kwds)\n",
      "C:\\Users\\stephaneg\\AppData\\Local\\Continuum\\anaconda3\\envs\\dev\\lib\\importlib\\_bootstrap.py:219: RuntimeWarning: cymem.cymem.Address size changed, may indicate binary incompatibility. Expected 12 from C header, got 20 from PyObject\n",
      "  return f(*args, **kwds)\n"
     ]
    }
   ],
   "source": [
    "with open('directories.json') as f:\n",
    "        directories = json.load(f)\n",
    "baseDir = Path(os.getcwd())\n",
    "corpus = 'dev'\n",
    "documentsDir = baseDir / directories[corpus]['documents']\n",
    "queriesDir = baseDir / directories[corpus]['queries']\n",
    "referencesDir = baseDir / directories[corpus]['references']\n",
    "\n",
    "# Load the test corpus:\n",
    "corpus = DevCorpus(documentsDir, queriesDir, referencesDir)"
   ]
  },
  {
   "cell_type": "code",
   "execution_count": 3,
   "metadata": {},
   "outputs": [],
   "source": [
    "mmr = MMR()\n",
    "docs = corpus.document_sets()[0]\n",
    "reference = corpus.references()[0][0]"
   ]
  },
  {
   "cell_type": "markdown",
   "metadata": {},
   "source": [
    "# Test 1"
   ]
  },
  {
   "cell_type": "markdown",
   "metadata": {},
   "source": [
    "How different can the query be before it's not the first chosen sentence?"
   ]
  },
  {
   "cell_type": "code",
   "execution_count": 4,
   "metadata": {},
   "outputs": [
    {
     "name": "stdout",
     "output_type": "stream",
     "text": [
      "LAMBDA: 1.0\n",
      "QUERY: Bombardier Inc (BBDb.TO) said would sell two businesses million cut jobs it expands divisions company shares fell as much as percent disappointing cash flow forecast\n",
      "REFERENCE: Bombardier Inc (BBDb.TO) said on Thursday it would sell two businesses for around $900 million (Â£689 million) and cut 5,000 jobs and as it expands its stronger corporate jet and rail divisions, but the company's shares fell as much as 26 percent on a disappointing free cash flow forecast. \"2018 free cash flow was lower than my expectations,\" said Morningstar analyst Chris Higgins. Jamie Koutsoukis, a senior analyst at Moody's, said by email she believes Bombardier has \"an uncertain ability to generate positive free cash flow in 2019.\"\n"
     ]
    }
   ],
   "source": [
    "lda = 1.0\n",
    "L = 50\n",
    "#query01 = \"Bombardier Inc (BBDb.TO) said would sell two businesses million cut jobs it expands divisions company shares fell as much as percent disappointing cash flow forecast\"\n",
    "query01 = \"Bombardier Inc (BBDb.TO) said would sell two businesses million cut jobs it expands divisions company shares fell as much as percent disappointing cash flow forecast\"\n",
    "print(\"LAMBDA:\", lda)\n",
    "print(\"QUERY:\", query01)\n",
    "print(\"REFERENCE:\",\" \".join(reference))"
   ]
  },
  {
   "cell_type": "code",
   "execution_count": 5,
   "metadata": {},
   "outputs": [
    {
     "name": "stdout",
     "output_type": "stream",
     "text": [
      "SUMMARY: (Reuters) - Bombardier Inc (BBDb.TO) said on Thursday it would sell two businesses for around $900 million (£689 million) and cut 5,000 jobs and as it expands its stronger corporate jet and rail divisions, but the company's shares fell as much as 26 percent on a disappointing free cash flow forecast.\n"
     ]
    }
   ],
   "source": [
    "summary = mmr.summarize(docs,\n",
    "                        query01,\n",
    "                        max_length=L)\n",
    "print(\"SUMMARY:\",\" \".join(summary))"
   ]
  },
  {
   "cell_type": "markdown",
   "metadata": {},
   "source": [
    "# Test 2"
   ]
  },
  {
   "cell_type": "markdown",
   "metadata": {},
   "source": [
    "How long must be the summary it inludes the the correct answer using a normal query?"
   ]
  },
  {
   "cell_type": "code",
   "execution_count": 6,
   "metadata": {},
   "outputs": [
    {
     "name": "stdout",
     "output_type": "stream",
     "text": [
      "LAMBDA: 1.0\n",
      "QUERY: Bombardier BBD.B market share fell down slide analyst\n",
      "REFERENCE: Bombardier Inc (BBDb.TO) said on Thursday it would sell two businesses for around $900 million (Â£689 million) and cut 5,000 jobs and as it expands its stronger corporate jet and rail divisions, but the company's shares fell as much as 26 percent on a disappointing free cash flow forecast. \"2018 free cash flow was lower than my expectations,\" said Morningstar analyst Chris Higgins. Jamie Koutsoukis, a senior analyst at Moody's, said by email she believes Bombardier has \"an uncertain ability to generate positive free cash flow in 2019.\"\n"
     ]
    }
   ],
   "source": [
    "lda = 1.0\n",
    "L = 1000\n",
    "query02 = corpus.queries()[0]\n",
    "print(\"LAMBDA:\", lda)\n",
    "print(\"QUERY:\", query02)\n",
    "print(\"REFERENCE:\",\" \".join(reference))"
   ]
  },
  {
   "cell_type": "code",
   "execution_count": 7,
   "metadata": {},
   "outputs": [
    {
     "name": "stdout",
     "output_type": "stream",
     "text": [
      "SUMMARY: Rolling stock leasing company Akiem and mobility technology leader Bombardier Transportation have signed two contracts under frame contracts to deliver a total of 33 BOMBARDIER TRAXX locomotives. This fruitful partnership with Bombardier Transportation enables Akiem Group industrial teams to design and deliver tailor-made services and maintenance solutions across Europe. The ATO will focus on systems design and engineering, including applying experience from Bombardier’s aerospace programs to its rail transportation business. * Questions raised over absence of C919 narrowbody jet (Updates with analyst comment) A deal between British energy supplier SSE Plc and Germany's Innogy SE has been delayed after energy regulator, Ofgem, proposed a cap to default energy prices. https://bit.ly/2ODFq64 Chief Executive Alain Bellemare told analysts on a conference call the changes would allow the company to pursue \"growth opportunities\" in its stronger-performing rail, business jet and aerostructures divisions. Bombardier Chief Financial Officer John Di Bert attributed the free cash flow discrepancy to higher-than-expected working capital needs in its rail division. * Show demonstrates scale and speed of aerospace growth - analyst Group communications coordinator With Russian support, China broadcasts export ambitions at air show We are making our Group a major long-term, reliable partner and added value provider for the railway transport industry in Europe.” ZHUHAI, China, Nov 8 (Reuters) - China paraded industrial and military clout and sent deliberate signals to Western rivals that its aerospace and arms industries aim to catch them up on world markets, while playing down trade tensions at the nation's largest air show this week. Free cash flow usage(2) improved by $125M, 25% year over year The uptick in U.S. demand has coincided with a decline in business optimism by private jet operators, owners and financiers in China, according to a survey by Hong Kong-based business aviation specialist Asian Sky Group. Our products and services provide world-class transportation experiences that set new standards in passenger comfort, energy efficiency, reliability and safety. Reconciliation of adjusted net income to net income (loss) and computation of adjusted EPS ~$900M net proceeds expected mainly from the sale of non-core assets: Q Series program and Business Aircraft’s flight and technical training activities(3) The Canadian plane and train maker said it would only be able to meet its 2018 free cash flow estimate by using $635 million in proceeds from the sale of a Toronto plant earlier this year. (8) \tCash and cash equivalents as at December 31, 2017 include the cash reclassified as asset held for sale. Combining technology and performance with empathy, Bombardier Transportation continuously breaks new ground in sustainable mobility by providing integrated solutions that create substantial benefits for operators, passengers and the environment. Reconciliation of free cash flow usage to cash flows from operating activities The Global 7500 aircraft offers not only Bombardier’s signature smooth ride but also superior field performance, perfect for operating from key challenging airports Akiem and Bombardier sign contracts to supply a total of 33 TRAXX locomotives It took place in the same week as a Shanghai import expo, viewed as one of China's most important foreign policy events for the year. Hong Kong's South China Morning Post (SCMP) reported, citing military insiders, that organisers had scaled back the Zhuhai event due to trade tensions and reduced funding. Last month, Reuters reported that cash-strapped Chinese conglomerate HNA Group Co Ltd was selling its corporate \"Dream Jet\" sporting a \"seven-star\" hotel-style cabin. It also exceeded takeoff and landing performance commitments, facilitating access to challenging airports such as Chicago Executive, MI or Eagle County, CO, even in adverse weather conditions. According to FlightGlobal Values Analyzer data, business jets have lost an average of 7.1 percent in market value over the year. Bombardier also announced today the sale of a number of non-core assets, in line with its strategy of focusing on growth opportunities in its Transportation, Business Aircraft and Aerostructures segments. EBIT before special items increased by 33% year over year supported by the revenue growth. Jamie Koutsoukis, a senior analyst at Moody's, said by email she believes Bombardier has \"an uncertain ability to generate positive free cash flow in 2019.\" This transaction provides Bombardier’s Business Aircraft customers the benefit of CAE’s training expertise, while Bombardier focuses on aircraft development and services. Refer to the strategic partnership section in Commercial Aircraft, Note 11 - Cash and cash equivalents and Note 19 - Disposal of a business in the Corporation’s Consolidated financial statements for more details on the transaction as well as the accounting treatment. “With our heavy investment cycle now completed, we continue to make solid progress executing our turnaround plan,” said Alain Bellemare, President and Chief Executive Officer, Bombardier Inc. British electricals company Dyson has won a legal battle with European courts over energy labelling of vacuum cleaners with the court backing its argument that the legislation discriminated against its products. https://ind.pn/2DrsXkN ($1 = 0.7654 pounds) A senior executive at Russian state conglomerate Rostec told Reuters both countries were keen to develop their civil aircraft building capabilities to reduce their dependence on the Western companies that currently dominate the supply chain. Bombardier to cut 5,000 jobs, sell units; share dive on cash flow worries In addition to right-sizing and redeploying central engineering, Bombardier has launched a company-wide restructuring initiative focused on optimizing production and management processes, flattening management structures and further reducing indirect costs. It has the benefit of the maintenance network of its subsidiary, mgw Service, which specialises in rail equipment maintenance. Bombardier is also reaffirming its 2020 financial targets, even after the divestiture of the Q Series program and Business Aircraft’s flight and technical training activities. * Joint wide-body jet project with Russia also in focus At Commercial Aircraft, EBIT before special items was near the breakeven point due to the deconsolidation of C Series losses net of the associated equity pick-up. Cash usage in the third quarter was driven by working capital build-up at Transportation, as the Company continues to work through the intense delivery phase.\n"
     ]
    }
   ],
   "source": [
    "summary = mmr.summarize(docs,\n",
    "                        query02,\n",
    "                        max_length=L)\n",
    "print(\"SUMMARY:\",\" \".join(summary))"
   ]
  }
 ],
 "metadata": {
  "kernelspec": {
   "display_name": "Python 3",
   "language": "python",
   "name": "python3"
  },
  "language_info": {
   "codemirror_mode": {
    "name": "ipython",
    "version": 3
   },
   "file_extension": ".py",
   "mimetype": "text/x-python",
   "name": "python",
   "nbconvert_exporter": "python",
   "pygments_lexer": "ipython3",
   "version": "3.6.5"
  }
 },
 "nbformat": 4,
 "nbformat_minor": 2
}
